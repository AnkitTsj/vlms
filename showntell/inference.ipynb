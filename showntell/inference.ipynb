{
 "cells": [
  {
   "metadata": {
    "ExecuteTime": {
     "end_time": "2025-02-10T14:24:36.900031Z",
     "start_time": "2025-02-10T14:24:33.897955Z"
    }
   },
   "cell_type": "code",
   "source": [
    "import torch\n",
    "from torch import nn\n",
    "import random\n",
    "import os\n",
    "from torchvision import transforms\n",
    "from PIL import Image, ImageDraw, ImageFont\n",
    "import json\n",
    "\n",
    "\n",
    "\n",
    "# Import the model definition \n",
    "from model import Captioner\n",
    "\n",
    "\n",
    "# Load vocabulary files\n",
    "vocab = json.load(open('vocab.json', 'r')) # Ensure 'vocab.json' is in the same directory or provide correct path\n",
    "rev_vocab = json.load(open('vocab_rev.json', 'r')) # Ensure 'vocab_rev.json' is in the same directory or provide correct path\n",
    "VSIZE = len(vocab)\n",
    "\n",
    "\n",
    "# 1. Device Configuration\n",
    "device = torch.device(\"cuda\" if torch.cuda.is_available() else \"cpu\")\n",
    "\n",
    "# 2. Model Hyperparameters (Keep consistent with training)\n",
    "BATCH_SIZE = 1\n",
    "W_ESIZE = 124\n",
    "RNN_HIDDEN = 512\n",
    "MAX_LENGTH = 80\n",
    "model_path = \"captioner_epoch_10.pth\" # Path to your trained model weights\n",
    "\n",
    "# 3. Model Initialization\n",
    "model = Captioner(VSIZE, RNN_HIDDEN, BATCH_SIZE, W_ESIZE, 512, vocab, MAX_LENGTH, rev_vocab, device).to(device)\n",
    "\n",
    "# 4. Load Trained Model Weights\n",
    "model.load_state_dict(torch.load(model_path, map_location=device))\n",
    "model.eval() # Set model to evaluation mode\n",
    "\n",
    "# 5. Image Transformation for Inference\n",
    "transform_infer = transforms.Compose([\n",
    "    transforms.Resize((256, 256)),\n",
    "    transforms.ToTensor()\n",
    "])\n",
    "\n",
    "# 6. Load Image (choose a random image for demonstration)\n",
    "image_folder = \"D:/ankit/caption_data/train2017\" # Replace with your image folder path"
   ],
   "id": "c98766ec24347adb",
   "outputs": [
    {
     "name": "stderr",
     "output_type": "stream",
     "text": [
      "Using cache found in C:\\Users\\Ankit Kumar/.cache\\torch\\hub\\pytorch_vision_v0.10.0\n",
      "C:\\Users\\Ankit Kumar\\anaconda3\\Lib\\site-packages\\torchvision\\models\\_utils.py:208: UserWarning: The parameter 'pretrained' is deprecated since 0.13 and may be removed in the future, please use 'weights' instead.\n",
      "  warnings.warn(\n",
      "C:\\Users\\Ankit Kumar\\anaconda3\\Lib\\site-packages\\torchvision\\models\\_utils.py:223: UserWarning: Arguments other than a weight enum or `None` for 'weights' are deprecated since 0.13 and may be removed in the future. The current behavior is equivalent to passing `weights=GoogLeNet_Weights.IMAGENET1K_V1`. You can also use `weights=GoogLeNet_Weights.DEFAULT` to get the most up-to-date weights.\n",
      "  warnings.warn(msg)\n"
     ]
    }
   ],
   "execution_count": 1
  },
  {
   "metadata": {
    "ExecuteTime": {
     "end_time": "2025-02-10T14:24:40.443928Z",
     "start_time": "2025-02-10T14:24:40.084289Z"
    }
   },
   "cell_type": "code",
   "source": [
    "\n",
    "image_file = os.path.join(image_folder, random.choice(os.listdir(image_folder)))\n",
    "original_image = Image.open(image_file).convert('RGB')\n",
    "image_tensor = transform_infer(original_image).unsqueeze(0).to(device)\n",
    "\n",
    "# 7. Generate Caption\n",
    "with torch.no_grad(): # Disable gradient calculation during inference\n",
    "    generated_caption_tokens = model.generate_caption(image_tensor)\n",
    "\n",
    "# 8. Post-process Caption\n",
    "generated_caption_chars = generated_caption_tokens[1:-1] # Remove <START> and <END> tokens\n",
    "generated_caption = \"\".join(generated_caption_chars) # Join characters to form a string\n",
    "\n",
    "# 9. Display Results (Image and Caption)\n",
    "print(\"Generated Caption:\", generated_caption)\n",
    "\n"
   ],
   "id": "f415202b44282132",
   "outputs": [
    {
     "name": "stdout",
     "output_type": "stream",
     "text": [
      "Generated Caption: A large jetliner flying through a blue sky with a large clouds.\n"
     ]
    }
   ],
   "execution_count": 2
  },
  {
   "metadata": {
    "ExecuteTime": {
     "end_time": "2025-02-10T14:24:41.893215Z",
     "start_time": "2025-02-10T14:24:41.800638Z"
    }
   },
   "cell_type": "code",
   "source": [
    "# --- Optional: Annotate and Display Image (PIL drawing) ---\n",
    "annotated_image = original_image.copy()\n",
    "draw = ImageDraw.Draw(annotated_image)\n",
    "font = ImageFont.load_default() # You can specify a font file if needed\n",
    "text_position = (10, 10) # Adjust position as needed\n",
    "draw.text(text_position, \"Caption: \" + generated_caption, font=font, fill=(255, 255, 255))\n",
    "annotated_image.show(title=\"Image Captioning\")"
   ],
   "id": "a206c67bcd09a57",
   "outputs": [],
   "execution_count": 3
  }
 ],
 "metadata": {
  "kernelspec": {
   "display_name": "Python 3",
   "language": "python",
   "name": "python3"
  },
  "language_info": {
   "codemirror_mode": {
    "name": "ipython",
    "version": 2
   },
   "file_extension": ".py",
   "mimetype": "text/x-python",
   "name": "python",
   "nbconvert_exporter": "python",
   "pygments_lexer": "ipython2",
   "version": "2.7.6"
  }
 },
 "nbformat": 4,
 "nbformat_minor": 5
}
